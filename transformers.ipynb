{
 "cells": [
  {
   "cell_type": "code",
   "execution_count": 1,
   "id": "67962218-5edb-440e-970c-6e2b2c8abaeb",
   "metadata": {},
   "outputs": [],
   "source": [
    "from transformers import pipeline, set_seed"
   ]
  },
  {
   "cell_type": "code",
   "execution_count": 2,
   "id": "abe080dc-1236-4e85-ab37-12df28c561a5",
   "metadata": {},
   "outputs": [
    {
     "data": {
      "application/vnd.jupyter.widget-view+json": {
       "model_id": "02357fe3b41b49ae9c59cb6a2fb404d0",
       "version_major": 2,
       "version_minor": 0
      },
      "text/plain": [
       "Downloading:   0%|          | 0.00/665 [00:00<?, ?B/s]"
      ]
     },
     "metadata": {},
     "output_type": "display_data"
    },
    {
     "data": {
      "application/vnd.jupyter.widget-view+json": {
       "model_id": "b0f26b0f496f49d99a5ab4b5d2fbab5c",
       "version_major": 2,
       "version_minor": 0
      },
      "text/plain": [
       "Downloading:   0%|          | 0.00/548M [00:00<?, ?B/s]"
      ]
     },
     "metadata": {},
     "output_type": "display_data"
    },
    {
     "data": {
      "application/vnd.jupyter.widget-view+json": {
       "model_id": "a85f7b7364324b55bff8387f820fcb49",
       "version_major": 2,
       "version_minor": 0
      },
      "text/plain": [
       "Downloading:   0%|          | 0.00/1.04M [00:00<?, ?B/s]"
      ]
     },
     "metadata": {},
     "output_type": "display_data"
    },
    {
     "data": {
      "application/vnd.jupyter.widget-view+json": {
       "model_id": "e56a667593724cec941736c2ecd912b9",
       "version_major": 2,
       "version_minor": 0
      },
      "text/plain": [
       "Downloading:   0%|          | 0.00/456k [00:00<?, ?B/s]"
      ]
     },
     "metadata": {},
     "output_type": "display_data"
    },
    {
     "data": {
      "application/vnd.jupyter.widget-view+json": {
       "model_id": "6783ec97122043f4b2a89fb299cec300",
       "version_major": 2,
       "version_minor": 0
      },
      "text/plain": [
       "Downloading:   0%|          | 0.00/1.36M [00:00<?, ?B/s]"
      ]
     },
     "metadata": {},
     "output_type": "display_data"
    }
   ],
   "source": [
    "generator = pipeline('text-generation',model='gpt2')"
   ]
  },
  {
   "cell_type": "code",
   "execution_count": 9,
   "id": "ba823acd-d7cd-4f5f-8072-a2167259d4d1",
   "metadata": {},
   "outputs": [
    {
     "name": "stderr",
     "output_type": "stream",
     "text": [
      "Setting `pad_token_id` to `eos_token_id`:50256 for open-end generation.\n"
     ]
    },
    {
     "data": {
      "text/plain": [
       "[{'generated_text': 'If I were you, you would realize that you were still living with your father.\\n\\nBut I could not change the fact that I was on your father\\'s side.\"\\n\\nMakoto looked at him with a grin and started walking towards the door.\\n\\nIt wasn\\'t long before him came through and opened the door.\\n\\nIt was just as expected.\\n\\nHe had already seen the way he looked at Takahashi, so he felt like he had to say something'},\n",
       " {'generated_text': 'If I were you I would have said that he was my best friend but I didn\\'t think he was your best friend at all, but you\\'ve lost it.\\'\\n\\nSpeaking to the Daily Mail his response: \\'What the hell is wrong with you?\\'\"'},\n",
       " {'generated_text': 'If I were you I would try my best to follow up and try something new.\\n\\nWhen does that happen?\\n\\nWell I think you can see it in the following way. When I was working out there was a small group of guys around me who came in when I said, \"So what\\'s in your bag?\" I said they were going to give me their secret sf for doing that, they were going to call me my bag boy.\\n\\nBut why did you do'},\n",
       " {'generated_text': 'If I were you I\\'d be on the front cover.\"\\n\\nFrost chuckled. \"You know, don\\'t think anything is better than a team with a guy like that sitting across the room from you and him.\" He paused. \"Even if we had to stop him you bet a few bucks.\"\\n\\n\"Maybe not to my surprise,\" Anna said. \"But I\\'ve known them for years and I would give a thousand dollars if you put me in there.\"\\n\\n\"You'},\n",
       " {'generated_text': 'If I were you, I would want my husband to be more like you.\"\\n\\nI\\'m pretty sure I\\'m not alone. This is an example of what\\'s happening in the Muslim community. It\\'s probably no accident that people from the Muslim faith are at the leading edge of Islamic terrorism in the United States. This is not a small issue. A growing body of research reveals that this has an extremely serious effect on American Muslims. By highlighting their vulnerabilities, a more informed Muslim citizenry can'}]"
      ]
     },
     "execution_count": 9,
     "metadata": {},
     "output_type": "execute_result"
    }
   ],
   "source": [
    "set_seed(123)\n",
    "generator(\"If I were you\",max_length=100,num_return_sequences=5)"
   ]
  }
 ],
 "metadata": {
  "kernelspec": {
   "display_name": "Python 3 (ipykernel)",
   "language": "python",
   "name": "python3"
  },
  "language_info": {
   "codemirror_mode": {
    "name": "ipython",
    "version": 3
   },
   "file_extension": ".py",
   "mimetype": "text/x-python",
   "name": "python",
   "nbconvert_exporter": "python",
   "pygments_lexer": "ipython3",
   "version": "3.9.6"
  }
 },
 "nbformat": 4,
 "nbformat_minor": 5
}
